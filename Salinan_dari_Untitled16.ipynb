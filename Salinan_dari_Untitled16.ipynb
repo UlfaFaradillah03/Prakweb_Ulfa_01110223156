{
  "nbformat": 4,
  "nbformat_minor": 0,
  "metadata": {
    "colab": {
      "provenance": [],
      "authorship_tag": "ABX9TyMhMRRLuzUukb1q5Apw3h3o",
      "include_colab_link": true
    },
    "kernelspec": {
      "name": "python3",
      "display_name": "Python 3"
    },
    "language_info": {
      "name": "python"
    }
  },
  "cells": [
    {
      "cell_type": "markdown",
      "metadata": {
        "id": "view-in-github",
        "colab_type": "text"
      },
      "source": [
        "<a href=\"https://colab.research.google.com/github/UlfaFaradillah03/Prakweb_Ulfa_01110223156/blob/main/Salinan_dari_Untitled16.ipynb\" target=\"_parent\"><img src=\"https://colab.research.google.com/assets/colab-badge.svg\" alt=\"Open In Colab\"/></a>"
      ]
    },
    {
      "cell_type": "code",
      "execution_count": null,
      "metadata": {
        "colab": {
          "base_uri": "https://localhost:8080/"
        },
        "id": "L7vfZ7xmTDqR",
        "outputId": "7ed4e2ad-819d-47c1-b736-d3a1ccaa3b90"
      },
      "outputs": [
        {
          "output_type": "stream",
          "name": "stdout",
          "text": [
            "['B 2468 dhc', 'motor', '160', 'merah']\n",
            "['B 2468 dhc', 'Matic', 'motor', 'Honda', '160', 'merah', '15juta', '2 roda']\n"
          ]
        }
      ],
      "source": [
        "\n",
        "#no1\n",
        "kendaraan=[\"B 2468 dhc\", \"motor\", \"160\", \"merah\"]\n",
        "\n",
        "print(kendaraan)\n",
        "#no2\n",
        "kendaraan.append(\"15juta\",)\n",
        "kendaraan.append(\"2 roda\")\n",
        "kendaraan.insert(2,\"Honda\")\n",
        "kendaraan.insert(1,\"Matic\")\n",
        "\n",
        "print(kendaraan)"
      ]
    },
    {
      "cell_type": "code",
      "source": [
        "\n",
        "#no 2\n",
        "import math\n",
        "\n",
        "def hitung_luas(bentuk, *args):\n",
        "    match bentuk:\n",
        "        case \"persegi\":\n",
        "            sisi = args[0]\n",
        "            luas_persegi = sisi ** 2\n",
        "            return luas_persegi\n",
        "        case \"lingkaran\":\n",
        "            jari_jari = args[0]\n",
        "            luas_lingkaran = math.pi * jari_jari ** 2\n",
        "            return luas_lingkaran\n",
        "        case \"segitiga\":\n",
        "            alas, tinggi = args[0], args[1]\n",
        "            luas_segitiga = 0.5 * alas * tinggi\n",
        "            return luas_segitiga\n",
        "        case _:\n",
        "            return \" Salah masukkan pilihan\"\n",
        "\n",
        "# Contoh pemanggilan fungsi\n",
        "print(\"Luas Persegi:\", hitung_luas(\"persegi\", 4))\n",
        "print(\"Luas Lingkaran:\", hitung_luas(\"lingkaran\", 3))\n",
        "print(\"Luas Segitiga:\", hitung_luas(\"segitiga\", 4, 5))\n",
        "print(\"Luas Segiempat:\", hitung_luas(\"segiempat\", 4, 5))  #"
      ],
      "metadata": {
        "colab": {
          "base_uri": "https://localhost:8080/"
        },
        "id": "gzcI3GOITgeO",
        "outputId": "b06a43a7-43c7-4f95-84e4-923757828d33"
      },
      "execution_count": null,
      "outputs": [
        {
          "output_type": "stream",
          "name": "stdout",
          "text": [
            "Luas Persegi: 16\n",
            "Luas Lingkaran: 28.274333882308138\n",
            "Luas Segitiga: 10.0\n",
            "Luas Segiempat:  Salah masukkan pilihan\n"
          ]
        }
      ]
    }
  ]
}