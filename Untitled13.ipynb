{
  "nbformat": 4,
  "nbformat_minor": 0,
  "metadata": {
    "colab": {
      "provenance": [],
      "authorship_tag": "ABX9TyNWrpVKzom9MgBKOGsJk4yG",
      "include_colab_link": true
    },
    "kernelspec": {
      "name": "python3",
      "display_name": "Python 3"
    },
    "language_info": {
      "name": "python"
    }
  },
  "cells": [
    {
      "cell_type": "markdown",
      "metadata": {
        "id": "view-in-github",
        "colab_type": "text"
      },
      "source": [
        "<a href=\"https://colab.research.google.com/github/UlfaFaradillah03/Prakweb_Ulfa_01110223156/blob/main/Untitled13.ipynb\" target=\"_parent\"><img src=\"https://colab.research.google.com/assets/colab-badge.svg\" alt=\"Open In Colab\"/></a>"
      ]
    },
    {
      "cell_type": "code",
      "execution_count": null,
      "metadata": {
        "colab": {
          "base_uri": "https://localhost:8080/"
        },
        "id": "wjpKctdrxfS8",
        "outputId": "1c33b193-4039-4709-a41f-5c42ea828e55"
      },
      "outputs": [
        {
          "output_type": "stream",
          "name": "stdout",
          "text": [
            "951\n",
            "651\n",
            "69\n",
            "319\n",
            "601\n",
            "485\n",
            "507\n",
            "725\n",
            "547\n",
            "615\n",
            "83\n",
            "165\n",
            "141\n",
            "501\n",
            "263\n",
            "617\n",
            "865\n",
            "575\n",
            "219\n",
            "105\n",
            "941\n",
            "47\n",
            "907\n",
            "375\n",
            "823\n",
            "597\n",
            "615\n",
            "953\n",
            "345\n",
            "399\n",
            "219\n",
            "237\n",
            "949\n",
            "687\n",
            "217\n",
            "815\n",
            "67\n",
            "767\n",
            "553\n"
          ]
        }
      ],
      "source": [
        "\n",
        "angka= [ 951, 402, 984, 651, 360, 69, 408, 319, 601, 485, 980, 507, 725, 547, 544,  615, 83, 165, 141, 501, 263, 617, 865, 575, 219, 390, 984, 592, 236, 105, 942, 941,  386, 462, 47, 418, 907, 344, 236, 375, 823, 566, 597, 978, 328, 615, 953, 345,  399, 162, 758, 219, 918, 237, 412, 566, 826, 248, 866, 950, 626, 949, 687, 217, 815, 67, 104, 58, 512, 24, 892, 894, 767, 553, 81, 379, 843, 831, 445, 742, 717, 958, 609, 842, 451, 688, 753, 854, 685, 93, 857, 440, 380, 126, 721, 328, 753, 470, 743, 527]\n",
        "index = 0\n",
        "while angka[index] != 81:\n",
        "    if angka[index] %2 == 1:\n",
        "        print(angka[index])\n",
        "    index += 1"
      ]
    },
    {
      "cell_type": "code",
      "source": [
        "\n",
        "total = 0\n",
        "for i in range(1, 20, 2):\n",
        "    total += i\n",
        "\n",
        "print(\"Total dari deret 1+3+5+7+9+11+13+15+17+19 adalah:\", total)"
      ],
      "metadata": {
        "colab": {
          "base_uri": "https://localhost:8080/"
        },
        "id": "uaal9_1Gxsu7",
        "outputId": "6ff17335-488a-4236-e546-6f8267da86d0"
      },
      "execution_count": null,
      "outputs": [
        {
          "output_type": "stream",
          "name": "stdout",
          "text": [
            "Total dari deret 1+3+5+7+9+11+13+15+17+19 adalah: 100\n"
          ]
        }
      ]
    },
    {
      "cell_type": "code",
      "source": [
        "\n",
        "string =\" \"\n",
        "bar = 1\n",
        "\n",
        "x = int (input(\"masukan angka\"))\n",
        "\n",
        "#  Loping baris\n",
        "while bar <= x:\n",
        "    kol = bar\n",
        "\n",
        "    #Loping kolom\n",
        "    while kol > 0:\n",
        "        string =string + \"=\"\n",
        "        kol = kol - 1\n",
        "        string = string + \"\\n\"\n",
        "        bar = bar +1\n",
        "        print (string)"
      ],
      "metadata": {
        "colab": {
          "base_uri": "https://localhost:8080/"
        },
        "id": "0IYf5OfTxxU0",
        "outputId": "240a3f2d-1fde-45fd-db87-34be754b16d9"
      },
      "execution_count": null,
      "outputs": [
        {
          "output_type": "stream",
          "name": "stdout",
          "text": [
            "masukan angka3\n",
            " =\n",
            "\n",
            " =\n",
            "=\n",
            "\n",
            " =\n",
            "=\n",
            "=\n",
            "\n"
          ]
        }
      ]
    }
  ]
}